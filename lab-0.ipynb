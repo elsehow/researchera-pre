{
 "cells": [
  {
   "cell_type": "markdown",
   "metadata": {
    "ein.tags": "worksheet-0",
    "slideshow": {
     "slide_type": "-"
    }
   },
   "source": [
    "Welcome to the course!\n",
    "\n",
    "If you have downloaded all of the pre-reqs, as described in this repository's README, you should be able to run all of the cells in this notebook.\n",
    "\n",
    "After executing the final cell, your notebook should produce a graph. Please send that graph to me at your convenience to verify that everything's working for you.\n",
    "\n",
    "You won't understand everything that's happening in this notebook, and that's perfectly okay. Just read the directions and watch along, and get an (intuitive, nontechnical) sense for what's going on. We'll discuss all of this in much more detail together.\n",
    "\n",
    "There are **questions** in this notebook. The course coordinator will communicate the due-date for these answers to you."
   ]
  },
  {
   "cell_type": "code",
   "execution_count": 1,
   "metadata": {
    "autoscroll": false,
    "ein.hycell": false,
    "ein.tags": "worksheet-0",
    "slideshow": {
     "slide_type": "-"
    }
   },
   "outputs": [
    {
     "name": "stdout",
     "output_type": "stream",
     "text": [
      "Populating the interactive namespace from numpy and matplotlib\n"
     ]
    }
   ],
   "source": [
    "# Import the requirements\n",
    "%pylab inline\n",
    "from xgboost.sklearn import XGBRegressor\n",
    "import xgboost as xgb\n",
    "from sklearn.datasets import load_boston\n",
    "from sklearn.model_selection import train_test_split\n",
    "import pandas as pd"
   ]
  },
  {
   "cell_type": "markdown",
   "metadata": {
    "ein.tags": "worksheet-0",
    "slideshow": {
     "slide_type": "-"
    }
   },
   "source": [
    "# Datasets, features & dimensionality\n",
    "\n",
    "Put simply, **datasets** are *collections of numbers*.\n",
    "\n",
    "Datasets can be described in various ways.\n",
    "1. By what they represent\n",
    "2. By their *dimensionality* & *size*, known together as their *shape*\n",
    "\n",
    "Let's start with point 1. First and foremost, datasets represent observations from the word.\n",
    "\n",
    "To illustrate, let's load an example dataset - [Boston home prices](https://scikit-learn.org/stable/datasets/index.html#boston-dataset)! Take a look at that documentation page. This dataset *represents* neighborhoods in Boston. It represents neighborhoods (*samples*) by describing them numerically, across categories such as crime rate, highway accessibility, tax rate, etc. These descriptions are called **features**.\n",
    "\n",
    "In machine learning, samples are described by their features, and only by their features. Collections of samples are **datasets**.\n"
   ]
  },
  {
   "cell_type": "code",
   "execution_count": 2,
   "metadata": {
    "autoscroll": false,
    "ein.hycell": false,
    "ein.tags": "worksheet-0",
    "slideshow": {
     "slide_type": "-"
    }
   },
   "outputs": [],
   "source": [
    "boston = load_boston()"
   ]
  },
  {
   "cell_type": "markdown",
   "metadata": {
    "ein.tags": "worksheet-0",
    "slideshow": {
     "slide_type": "-"
    }
   },
   "source": [
    "*Note: This is a version of the famous UC Irvine housing dataset (yes, in ML, there are famous datasets!).*\n",
    "\n",
    "Now we've loaded our dataset, `boston`. Let's look at the \"shape\" of this data.\n"
   ]
  },
  {
   "cell_type": "code",
   "execution_count": 3,
   "metadata": {
    "autoscroll": false,
    "ein.hycell": false,
    "ein.tags": "worksheet-0",
    "slideshow": {
     "slide_type": "-"
    }
   },
   "outputs": [
    {
     "data": {
      "text/plain": [
       "(506, 13)"
      ]
     },
     "execution_count": 3,
     "metadata": {},
     "output_type": "execute_result"
    }
   ],
   "source": [
    "boston.data.shape"
   ]
  },
  {
   "cell_type": "markdown",
   "metadata": {
    "ein.tags": "worksheet-0",
    "slideshow": {
     "slide_type": "-"
    }
   },
   "source": [
    "What does this *shape* mean? It's a list of numbers. The first number describes how many samples (neighborhoods) are in the dataset: 506. The second number describes how many features are used to describe each neighborhood: 13.\n",
    "\n",
    "Imagine a matrix (or a spreadsheet) of 506 rows and thirteen columns. That's effectively what we're looking at here.\n",
    "\n",
    "Now, you've almost certainly heard people talk about *big data* in your life. What exactly does this phrase mean? Well, it can refer to two aspects of datasets, both of which are captured by shape. First, a dataset can be *big* if it has a large number of samples. That's intuitive: you can have millions or billions of observations in a large dataset.\n",
    "\n",
    "Second, a dataset can be *big* if it has a high **dimensionality**. Dimensionality is an extremely fancy word for how many numbers are in the list of the data's `shape`. Our dataset has a dimensionality of 2. Remember, this makes sense: it can be thought of as a spreadsheet, which is a two-dimensional form.\n",
    "\n",
    "> **Question 1**: I have a sensor that measures electromagnetic radiation--described by a single number---500 times per second. I record this sensor for four seconds. What is the **dimensionality** of my dataset?\n"
   ]
  },
  {
   "cell_type": "code",
   "execution_count": 4,
   "metadata": {
    "autoscroll": false,
    "ein.hycell": false,
    "ein.tags": "worksheet-0",
    "slideshow": {
     "slide_type": "-"
    }
   },
   "outputs": [],
   "source": [
    "# what is the dimensionality of my dataset?"
   ]
  },
  {
   "cell_type": "markdown",
   "metadata": {
    "ein.tags": "worksheet-0",
    "slideshow": {
     "slide_type": "-"
    }
   },
   "source": [
    "Let's cement our understanding by looking at the actual guts of the dataset---the numbers.\n",
    "\n",
    "First, let's look at the first neighborhood in the dataset."
   ]
  },
  {
   "cell_type": "code",
   "execution_count": 5,
   "metadata": {
    "autoscroll": false,
    "ein.hycell": false,
    "ein.tags": "worksheet-0",
    "slideshow": {
     "slide_type": "-"
    }
   },
   "outputs": [
    {
     "data": {
      "text/plain": [
       "array([6.320e-03, 1.800e+01, 2.310e+00, 0.000e+00, 5.380e-01, 6.575e+00,\n",
       "       6.520e+01, 4.090e+00, 1.000e+00, 2.960e+02, 1.530e+01, 3.969e+02,\n",
       "       4.980e+00])"
      ]
     },
     "execution_count": 5,
     "metadata": {},
     "output_type": "execute_result"
    }
   ],
   "source": [
    "boston.data[0, :]"
   ]
  },
  {
   "cell_type": "markdown",
   "metadata": {
    "ein.tags": "worksheet-0",
    "slideshow": {
     "slide_type": "-"
    }
   },
   "source": [
    "We took the first item of `boston` to see a row of the dataset. These numbers represent each feature of this neighborhood.\n",
    "\n",
    "Now let's look at crime per capita across all neighborhoods."
   ]
  },
  {
   "cell_type": "code",
   "execution_count": 6,
   "metadata": {
    "autoscroll": false,
    "ein.hycell": false,
    "ein.tags": "worksheet-0",
    "slideshow": {
     "slide_type": "-"
    }
   },
   "outputs": [
    {
     "data": {
      "text/plain": [
       "array([6.32000e-03, 2.73100e-02, 2.72900e-02, 3.23700e-02, 6.90500e-02,\n",
       "       2.98500e-02, 8.82900e-02, 1.44550e-01, 2.11240e-01, 1.70040e-01,\n",
       "       2.24890e-01, 1.17470e-01, 9.37800e-02, 6.29760e-01, 6.37960e-01,\n",
       "       6.27390e-01, 1.05393e+00, 7.84200e-01, 8.02710e-01, 7.25800e-01,\n",
       "       1.25179e+00, 8.52040e-01, 1.23247e+00, 9.88430e-01, 7.50260e-01,\n",
       "       8.40540e-01, 6.71910e-01, 9.55770e-01, 7.72990e-01, 1.00245e+00,\n",
       "       1.13081e+00, 1.35472e+00, 1.38799e+00, 1.15172e+00, 1.61282e+00,\n",
       "       6.41700e-02, 9.74400e-02, 8.01400e-02, 1.75050e-01, 2.76300e-02,\n",
       "       3.35900e-02, 1.27440e-01, 1.41500e-01, 1.59360e-01, 1.22690e-01,\n",
       "       1.71420e-01, 1.88360e-01, 2.29270e-01, 2.53870e-01, 2.19770e-01,\n",
       "       8.87300e-02, 4.33700e-02, 5.36000e-02, 4.98100e-02, 1.36000e-02,\n",
       "       1.31100e-02, 2.05500e-02, 1.43200e-02, 1.54450e-01, 1.03280e-01,\n",
       "       1.49320e-01, 1.71710e-01, 1.10270e-01, 1.26500e-01, 1.95100e-02,\n",
       "       3.58400e-02, 4.37900e-02, 5.78900e-02, 1.35540e-01, 1.28160e-01,\n",
       "       8.82600e-02, 1.58760e-01, 9.16400e-02, 1.95390e-01, 7.89600e-02,\n",
       "       9.51200e-02, 1.01530e-01, 8.70700e-02, 5.64600e-02, 8.38700e-02,\n",
       "       4.11300e-02, 4.46200e-02, 3.65900e-02, 3.55100e-02, 5.05900e-02,\n",
       "       5.73500e-02, 5.18800e-02, 7.15100e-02, 5.66000e-02, 5.30200e-02,\n",
       "       4.68400e-02, 3.93200e-02, 4.20300e-02, 2.87500e-02, 4.29400e-02,\n",
       "       1.22040e-01, 1.15040e-01, 1.20830e-01, 8.18700e-02, 6.86000e-02,\n",
       "       1.48660e-01, 1.14320e-01, 2.28760e-01, 2.11610e-01, 1.39600e-01,\n",
       "       1.32620e-01, 1.71200e-01, 1.31170e-01, 1.28020e-01, 2.63630e-01,\n",
       "       1.07930e-01, 1.00840e-01, 1.23290e-01, 2.22120e-01, 1.42310e-01,\n",
       "       1.71340e-01, 1.31580e-01, 1.50980e-01, 1.30580e-01, 1.44760e-01,\n",
       "       6.89900e-02, 7.16500e-02, 9.29900e-02, 1.50380e-01, 9.84900e-02,\n",
       "       1.69020e-01, 3.87350e-01, 2.59150e-01, 3.25430e-01, 8.81250e-01,\n",
       "       3.40060e-01, 1.19294e+00, 5.90050e-01, 3.29820e-01, 9.76170e-01,\n",
       "       5.57780e-01, 3.22640e-01, 3.52330e-01, 2.49800e-01, 5.44520e-01,\n",
       "       2.90900e-01, 1.62864e+00, 3.32105e+00, 4.09740e+00, 2.77974e+00,\n",
       "       2.37934e+00, 2.15505e+00, 2.36862e+00, 2.33099e+00, 2.73397e+00,\n",
       "       1.65660e+00, 1.49632e+00, 1.12658e+00, 2.14918e+00, 1.41385e+00,\n",
       "       3.53501e+00, 2.44668e+00, 1.22358e+00, 1.34284e+00, 1.42502e+00,\n",
       "       1.27346e+00, 1.46336e+00, 1.83377e+00, 1.51902e+00, 2.24236e+00,\n",
       "       2.92400e+00, 2.01019e+00, 1.80028e+00, 2.30040e+00, 2.44953e+00,\n",
       "       1.20742e+00, 2.31390e+00, 1.39140e-01, 9.17800e-02, 8.44700e-02,\n",
       "       6.66400e-02, 7.02200e-02, 5.42500e-02, 6.64200e-02, 5.78000e-02,\n",
       "       6.58800e-02, 6.88800e-02, 9.10300e-02, 1.00080e-01, 8.30800e-02,\n",
       "       6.04700e-02, 5.60200e-02, 7.87500e-02, 1.25790e-01, 8.37000e-02,\n",
       "       9.06800e-02, 6.91100e-02, 8.66400e-02, 2.18700e-02, 1.43900e-02,\n",
       "       1.38100e-02, 4.01100e-02, 4.66600e-02, 3.76800e-02, 3.15000e-02,\n",
       "       1.77800e-02, 3.44500e-02, 2.17700e-02, 3.51000e-02, 2.00900e-02,\n",
       "       1.36420e-01, 2.29690e-01, 2.51990e-01, 1.35870e-01, 4.35710e-01,\n",
       "       1.74460e-01, 3.75780e-01, 2.17190e-01, 1.40520e-01, 2.89550e-01,\n",
       "       1.98020e-01, 4.56000e-02, 7.01300e-02, 1.10690e-01, 1.14250e-01,\n",
       "       3.58090e-01, 4.07710e-01, 6.23560e-01, 6.14700e-01, 3.15330e-01,\n",
       "       5.26930e-01, 3.82140e-01, 4.12380e-01, 2.98190e-01, 4.41780e-01,\n",
       "       5.37000e-01, 4.62960e-01, 5.75290e-01, 3.31470e-01, 4.47910e-01,\n",
       "       3.30450e-01, 5.20580e-01, 5.11830e-01, 8.24400e-02, 9.25200e-02,\n",
       "       1.13290e-01, 1.06120e-01, 1.02900e-01, 1.27570e-01, 2.06080e-01,\n",
       "       1.91330e-01, 3.39830e-01, 1.96570e-01, 1.64390e-01, 1.90730e-01,\n",
       "       1.40300e-01, 2.14090e-01, 8.22100e-02, 3.68940e-01, 4.81900e-02,\n",
       "       3.54800e-02, 1.53800e-02, 6.11540e-01, 6.63510e-01, 6.56650e-01,\n",
       "       5.40110e-01, 5.34120e-01, 5.20140e-01, 8.25260e-01, 5.50070e-01,\n",
       "       7.61620e-01, 7.85700e-01, 5.78340e-01, 5.40500e-01, 9.06500e-02,\n",
       "       2.99160e-01, 1.62110e-01, 1.14600e-01, 2.21880e-01, 5.64400e-02,\n",
       "       9.60400e-02, 1.04690e-01, 6.12700e-02, 7.97800e-02, 2.10380e-01,\n",
       "       3.57800e-02, 3.70500e-02, 6.12900e-02, 1.50100e-02, 9.06000e-03,\n",
       "       1.09600e-02, 1.96500e-02, 3.87100e-02, 4.59000e-02, 4.29700e-02,\n",
       "       3.50200e-02, 7.88600e-02, 3.61500e-02, 8.26500e-02, 8.19900e-02,\n",
       "       1.29320e-01, 5.37200e-02, 1.41030e-01, 6.46600e-02, 5.56100e-02,\n",
       "       4.41700e-02, 3.53700e-02, 9.26600e-02, 1.00000e-01, 5.51500e-02,\n",
       "       5.47900e-02, 7.50300e-02, 4.93200e-02, 4.92980e-01, 3.49400e-01,\n",
       "       2.63548e+00, 7.90410e-01, 2.61690e-01, 2.69380e-01, 3.69200e-01,\n",
       "       2.53560e-01, 3.18270e-01, 2.45220e-01, 4.02020e-01, 4.75470e-01,\n",
       "       1.67600e-01, 1.81590e-01, 3.51140e-01, 2.83920e-01, 3.41090e-01,\n",
       "       1.91860e-01, 3.03470e-01, 2.41030e-01, 6.61700e-02, 6.72400e-02,\n",
       "       4.54400e-02, 5.02300e-02, 3.46600e-02, 5.08300e-02, 3.73800e-02,\n",
       "       3.96100e-02, 3.42700e-02, 3.04100e-02, 3.30600e-02, 5.49700e-02,\n",
       "       6.15100e-02, 1.30100e-02, 2.49800e-02, 2.54300e-02, 3.04900e-02,\n",
       "       3.11300e-02, 6.16200e-02, 1.87000e-02, 1.50100e-02, 2.89900e-02,\n",
       "       6.21100e-02, 7.95000e-02, 7.24400e-02, 1.70900e-02, 4.30100e-02,\n",
       "       1.06590e-01, 8.98296e+00, 3.84970e+00, 5.20177e+00, 4.26131e+00,\n",
       "       4.54192e+00, 3.83684e+00, 3.67822e+00, 4.22239e+00, 3.47428e+00,\n",
       "       4.55587e+00, 3.69695e+00, 1.35222e+01, 4.89822e+00, 5.66998e+00,\n",
       "       6.53876e+00, 9.23230e+00, 8.26725e+00, 1.11081e+01, 1.84982e+01,\n",
       "       1.96091e+01, 1.52880e+01, 9.82349e+00, 2.36482e+01, 1.78667e+01,\n",
       "       8.89762e+01, 1.58744e+01, 9.18702e+00, 7.99248e+00, 2.00849e+01,\n",
       "       1.68118e+01, 2.43938e+01, 2.25971e+01, 1.43337e+01, 8.15174e+00,\n",
       "       6.96215e+00, 5.29305e+00, 1.15779e+01, 8.64476e+00, 1.33598e+01,\n",
       "       8.71675e+00, 5.87205e+00, 7.67202e+00, 3.83518e+01, 9.91655e+00,\n",
       "       2.50461e+01, 1.42362e+01, 9.59571e+00, 2.48017e+01, 4.15292e+01,\n",
       "       6.79208e+01, 2.07162e+01, 1.19511e+01, 7.40389e+00, 1.44383e+01,\n",
       "       5.11358e+01, 1.40507e+01, 1.88110e+01, 2.86558e+01, 4.57461e+01,\n",
       "       1.80846e+01, 1.08342e+01, 2.59406e+01, 7.35341e+01, 1.18123e+01,\n",
       "       1.10874e+01, 7.02259e+00, 1.20482e+01, 7.05042e+00, 8.79212e+00,\n",
       "       1.58603e+01, 1.22472e+01, 3.76619e+01, 7.36711e+00, 9.33889e+00,\n",
       "       8.49213e+00, 1.00623e+01, 6.44405e+00, 5.58107e+00, 1.39134e+01,\n",
       "       1.11604e+01, 1.44208e+01, 1.51772e+01, 1.36781e+01, 9.39063e+00,\n",
       "       2.20511e+01, 9.72418e+00, 5.66637e+00, 9.96654e+00, 1.28023e+01,\n",
       "       1.06718e+01, 6.28807e+00, 9.92485e+00, 9.32909e+00, 7.52601e+00,\n",
       "       6.71772e+00, 5.44114e+00, 5.09017e+00, 8.24809e+00, 9.51363e+00,\n",
       "       4.75237e+00, 4.66883e+00, 8.20058e+00, 7.75223e+00, 6.80117e+00,\n",
       "       4.81213e+00, 3.69311e+00, 6.65492e+00, 5.82115e+00, 7.83932e+00,\n",
       "       3.16360e+00, 3.77498e+00, 4.42228e+00, 1.55757e+01, 1.30751e+01,\n",
       "       4.34879e+00, 4.03841e+00, 3.56868e+00, 4.64689e+00, 8.05579e+00,\n",
       "       6.39312e+00, 4.87141e+00, 1.50234e+01, 1.02330e+01, 1.43337e+01,\n",
       "       5.82401e+00, 5.70818e+00, 5.73116e+00, 2.81838e+00, 2.37857e+00,\n",
       "       3.67367e+00, 5.69175e+00, 4.83567e+00, 1.50860e-01, 1.83370e-01,\n",
       "       2.07460e-01, 1.05740e-01, 1.11320e-01, 1.73310e-01, 2.79570e-01,\n",
       "       1.78990e-01, 2.89600e-01, 2.68380e-01, 2.39120e-01, 1.77830e-01,\n",
       "       2.24380e-01, 6.26300e-02, 4.52700e-02, 6.07600e-02, 1.09590e-01,\n",
       "       4.74100e-02])"
      ]
     },
     "execution_count": 6,
     "metadata": {},
     "output_type": "execute_result"
    }
   ],
   "source": [
    "boston.data[:, 0]"
   ]
  },
  {
   "cell_type": "markdown",
   "metadata": {
    "ein.tags": "worksheet-0",
    "slideshow": {
     "slide_type": "-"
    }
   },
   "source": [
    "Crime per capita is the first feature in the dataset, so we took a slice along the zeroth axis of the dataset's second dimension to see the asset price of all houses.\n",
    "\n",
    "> **Question 2**: Find the NOX (nitric oxides concentration) of the third house in the dataset."
   ]
  },
  {
   "cell_type": "code",
   "execution_count": 7,
   "metadata": {
    "autoscroll": false,
    "ein.hycell": false,
    "ein.tags": "worksheet-0",
    "slideshow": {
     "slide_type": "-"
    }
   },
   "outputs": [],
   "source": [
    "# Find the NOX (nitric oxides concentration) of the third house in the dataset."
   ]
  },
  {
   "cell_type": "markdown",
   "metadata": {
    "ein.tags": "worksheet-0",
    "slideshow": {
     "slide_type": "-"
    }
   },
   "source": [
    "A parting thought: you may be wondering what dataset could be possibly be higher dimensionality than two. What can't be described by a spreadsheet? Images are an everyday example of a higher-dimensional dataset. A black and white, 512x512 pixel image is itself two-dimensional---its shape is `(512, 512)`, where each feature represents a shade from 0 (black) to 1 (white) at a particular x, y position. If I have 50 such images, my dataset's shape is `(50, 512, 512)`. That's a three-dimensional dataset already, and we haven't added color yet!\n",
    "\n",
    "Digital colors are typically represented by red, green, and blue (RGB), as you may know if you've done any graphic design before. A color 512x512 photo has a shape of `(512,512,3)` - one channel for each color. For scale, the famous ImageNet dataset has 14,197,122 color images. That's big data, in both size and dimensionality!\n",
    "\n",
    "> **Question 3**: I have 500 color movies. Each movie is compressed to 1024x768 pixels, and each movie is twelve seconds long---about 300 frames. What is the dimensionality of my dataset?\n"
   ]
  },
  {
   "cell_type": "code",
   "execution_count": null,
   "metadata": {
    "autoscroll": false,
    "ein.hycell": false,
    "ein.tags": "worksheet-0",
    "slideshow": {
     "slide_type": "-"
    }
   },
   "outputs": [],
   "source": [
    "# What is the dimensionality of my dataset?"
   ]
  },
  {
   "cell_type": "markdown",
   "metadata": {
    "ein.tags": "worksheet-0",
    "slideshow": {
     "slide_type": "-"
    }
   },
   "source": [
    "# Training, testing, labels & overfitting\n",
    "\n",
    "Now let's do some machine learning. Before we do, let's discuss **training**. Training is the *learning* part of machine learning: an algorithm studies data. **Testing** means an algorithm applying what it has learned to data it has never seen before; making predictions about new data based on past experience.\n",
    "\n",
    "In class, we'll talk more about the two ways of viewing this *training*/*learning* process, both statistically and neuroscientifically. We'll also discuss this *testing*/*predicting* process from a statistical and cognitive standpoint. In the end, you'll see that our cognitive and statistical understandings are really two ways of expressing the same thing---and our biological brains and digital ML algorithms are, too!\n",
    "\n",
    "First, an important---nay, *the most important* note: we must separate our training data from our testing data.\n",
    "In fact, we must *always* train and test on different data.\n",
    "\n",
    "Why? We'll discuss this more in class, but here's a brief intuition: Let's say you want to teach a child how to do multiplication. You show them the multiplication tables for 2s: 2x2=4, 3x2=6, etc... and have them memorize this table up to 10. Now you ask them to multiply 2x11, or 2x3. Will they get it right? Maybe... However, they may equally well have done as you said, and memorized the relationships in front of them, rather than learning the underlying rule. That would leave them totally clueless when presented with a new number like 3x11. In machine learning, such memorization is what we call **overfitting**.\n",
    "\n",
    "Now, if we gave the child a greater variety of examples (also multiplying by 3, 4, 8, mixing up the order of the numbers), the child would be more likely to learn the real relationship: the true way to multiply two numbers together. This is the *model* we're looking to *train* (learn).\n",
    "\n",
    "Here's another way of looking at the situation: The child who memorized the two's table ends up with a copy of the two's table. The child who memorized a diverse set of examples ends up with a more elegant representation---the formula for multiplication---a model that will allow the child to perform any multiplication problem in the universe, given enough time.  In machine learning, **we use datasets to learn models that will describe data we haven't seen yet**.\n",
    "\n",
    "Again, we'll discuss this *overfitting*/*memorizing* relationship from statistics and neuroscience. In the meantime, we'll separate our training and testing data using a built-in function from `sklearn`. This will reserve 33% of our data for testing.\n"
   ]
  },
  {
   "cell_type": "code",
   "execution_count": 8,
   "metadata": {
    "autoscroll": false,
    "ein.hycell": false,
    "ein.tags": "worksheet-0",
    "slideshow": {
     "slide_type": "-"
    }
   },
   "outputs": [],
   "source": [
    "# Split the data into training and testing sets\n",
    "X_train, X_test, y_train, y_test = train_test_split(\n",
    "    boston.data, boston.target, test_size=0.33, random_state=42)"
   ]
  },
  {
   "cell_type": "markdown",
   "metadata": {
    "ein.tags": "worksheet-0",
    "slideshow": {
     "slide_type": "-"
    }
   },
   "source": [
    "Speaking of memorization, it's time for you to memorize some common machine learning conventions. `X` (upper case) refers to features. `y` (lower case) refers to **labels**. Labels are simply a special kind of feature that we want to predict---our \"feature of interest.\" In this case, we may want to predict median home price in a neighborhood given the neighborhood's attributes---that makes median home price the **label**.\n",
    "\n",
    "In the above command, we collected the training and testing data (`X_train` and `X_test`) along with the labels for both sets (`y_train` and `y_test`). All of these conventions eventually become second-nature.\n",
    "\n",
    "Now, time to create a new regressor. If you're familiar with linear regression---yes, regression is a very simple kind of machine learning! Watch:"
   ]
  },
  {
   "cell_type": "code",
   "execution_count": 9,
   "metadata": {
    "autoscroll": false,
    "ein.hycell": false,
    "ein.tags": "worksheet-0",
    "slideshow": {
     "slide_type": "-"
    }
   },
   "outputs": [],
   "source": [
    "# Create a new regressor\n",
    "from xgboost import XGBRegressor\n",
    "regr = XGBRegressor()"
   ]
  },
  {
   "cell_type": "code",
   "execution_count": 10,
   "metadata": {
    "autoscroll": false,
    "ein.hycell": false,
    "ein.tags": "worksheet-0",
    "slideshow": {
     "slide_type": "-"
    }
   },
   "outputs": [
    {
     "data": {
      "text/plain": [
       "XGBRegressor(base_score=0.5, booster='gbtree', colsample_bylevel=1,\n",
       "       colsample_bytree=1, gamma=0, learning_rate=0.1, max_delta_step=0,\n",
       "       max_depth=3, min_child_weight=1, missing=None, n_estimators=100,\n",
       "       n_jobs=1, nthread=None, objective='reg:linear', random_state=0,\n",
       "       reg_alpha=0, reg_lambda=1, scale_pos_weight=1, seed=None,\n",
       "       silent=True, subsample=1)"
      ]
     },
     "execution_count": 10,
     "metadata": {},
     "output_type": "execute_result"
    }
   ],
   "source": [
    "# Fit the regressor to the training data\n",
    "regr.fit(X_train, y_train)"
   ]
  },
  {
   "cell_type": "code",
   "execution_count": 11,
   "metadata": {
    "autoscroll": false,
    "ein.hycell": false,
    "ein.tags": "worksheet-0",
    "slideshow": {
     "slide_type": "-"
    }
   },
   "outputs": [],
   "source": [
    "# Use this regressor to predict labels for the testing data\n",
    "y_pred = regr.predict(X_test)"
   ]
  },
  {
   "cell_type": "code",
   "execution_count": 12,
   "metadata": {
    "autoscroll": false,
    "ein.hycell": false,
    "ein.tags": "worksheet-0",
    "slideshow": {
     "slide_type": "-"
    }
   },
   "outputs": [
    {
     "data": {
      "text/plain": [
       "<matplotlib.axes._subplots.AxesSubplot at 0x7fa22fbec9e8>"
      ]
     },
     "execution_count": 12,
     "metadata": {},
     "output_type": "execute_result"
    },
    {
     "data": {
      "image/png": "[encoded data removed]",
      "text/plain": [
       "<Figure size 432x288 with 1 Axes>"
      ]
     },
     "metadata": {
      "needs_background": "light"
     },
     "output_type": "display_data"
    }
   ],
   "source": [
    "# Plot the predicted labels against the actual labels\n",
    "predictions = pd.DataFrame({\n",
    "    'Actual': y_test,\n",
    "    'Predicted': y_pred\n",
    "})\n",
    "predictions.plot.scatter(x='Actual', y='Predicted')"
   ]
  },
  {
   "cell_type": "markdown",
   "metadata": {
    "ein.tags": "worksheet-0",
    "slideshow": {
     "slide_type": "-"
    }
   },
   "source": [
    "> **Question 4**: Send me the graph above. No trick question here---I just want to make sure you have all the necessary packages installed.\n",
    "\n",
    "What just happened? Well, we *trained* a model by telling our regressor to `fit` (another word for \"train\") to the `X_train` data and its `y_train` labels, home prices. Then, we *tested* the model by calling `regr.predict` on the `X_test` data, producing predicted home prices `y_pred`. Finally, we plotted the actual home prices against our predicted ones. You can see that we got pretty close!\n",
    "\n",
    "I mentioned linear regression above. You've probably see linear regression drawing a straight line along a two-dimensional scatterplot. Guess what? *Linear regression learns a model on a two-dimensional dataset*. So you've been doing machine learning this whole time!\n",
    "\n",
    "If you're a statistician the only \"cool\" feature of machine learning is that ML can work on data of any dimension, and the \"lines\" it draws don't need to be straight. We'll talk more about these \"lines\" on the first day of class.\n",
    "\n",
    "However, I'd like to convince you that machine learning has a lot more \"cool\" features than just what statisticians appreciate. Machine learning is cool because it lets us play with toy models of the human brain; machine learning is a powerful tool for assisting human labor because it's capable of percieving the world---and acting in it---in a way that's inspired by us, its creators.\n",
    "\n",
    "# Reading\n",
    "\n",
    "On that note, it's time for you to learn a little bit more about the brain. Please read the **required** readings before class. I recommend the optional readings as well, *especially*\n",
    "if the technical exercises above were easy for you, and/or if the required readings aren't telling you anything new.\n",
    "\n",
    "## Required\n",
    "\n",
    "\n",
    "Searle, [No ghost in the machine](http://articles.latimes.com/2003/oct/12/books/bk-searle12), 2003. LA Times.\n",
    "\n",
    "> Here, John R Searle, a famous philosopher of mind, reviews (and helpfully summarizes) a book about consciousness by Adam Zeman. Pay particular attention to Searle's \"three facts\" on page one, and his discussion of conscious machines on page 2. The key points here: We are conscious for biological reasons alone, and we can build machines that are conscious, too.\n",
    "\n",
    "Merrill et al, [Is the Future of Authenticity All In Our Heads? Moving Passthoughts From the Lab to the World](https://cosmopol.is/assets/nspw2017.pdf), 2017. NSPW.\n",
    "\n",
    "> This is a fun, light introduction to a technology we will talk about much more in class: passthoughts. In sum, Passthought authentication allows you to think a secret thought to log into things. A brainscanning device collects signatures of the corresponding neural activity and uses them as a password, or passthought.Why passthoughts? Well, traditional passwords are easy to guess and difficult to remember, while possession factors (like phones or fobs) are easy to lose. Meanwhile, biometric identifiers like fingerprints are easy to steal and difficult to change (remember the eyeball transplant scene from Minority Report?). Passthoughts combine multiple factors of authentication into a single step: a knowledge factor (your secret thought), and a biometric factor (the unique way you express your thought neurally). Passthoughts are easy to change, but tough for an attacker to fake, even if they know their target's secret thought.\n",
    "\n",
    "> This paper serves mostly to introduce you to passthoughts, and outline some of the fun things to think about there. We'll discuss the technical details in class, and I include a more technical paper of ours in the optional readings, below.\n",
    "\n",
    "Kay & Gallant, [I Can See What You See](http://cvnlab.net/papers/KayNatureNeuroscience2009.pdf), 2009. Nature.\n",
    "\n",
    "> In this classic paper, Jack Gallant and colleagues decode visual input from fMRI readings. In short, they are able to see what participants see by looking at scans of participants' brains. A cool application of machine learning. We won't be dealing with readings as high-dimensional as fMRI, but this paper gives you a taste of what brainscanning + machine learning can do together. Use this paper to learn a little bit more about the brain, and let it fire your imagination as you get ready for the coming course.\n",
    "\n",
    "\n",
    "## Optional\n",
    "\n",
    "\n",
    "Weber et al, [Imagination-Augmented Agents for Deep Reinforcement Learning](http://papers.nips.cc/paper/7152-imagination-augmented-agents-for-deep-reinforcement-learning.pdf), 2017. NIPS.\n",
    "\n",
    "> Don't worry if you don't understand all the terms in this paper. The key point\n",
    "here is that cognitive functions are very often modeled in ML algorithms. Doing\n",
    "so can often help us think about familiar capabilities such as\n",
    "imagination in a new way, helping us understand, from a computational\n",
    "perspective, why us mammals may have evolved these capabilities in the first\n",
    "place.\n",
    "\n",
    "Clark, [Whatever next? Predictive brains, situated agents, and the future of cognitive science](https://doi.org/10.1017/S0140525X12000477), 2013. Behavioral and Brain Sciences (36:3).\n",
    "\n",
    "> Think of this as a companion to Searle's review, above. This paper outlines the \"hierarchical prediction machine\" (HPM) theory of the brain---the theory we will be working with in the course. As you'll see, the HPM theory lets us view machine learning and human cognition as fundamentally similar, and helps us understand where ML needs to go in order to develop a so-called \"general artificial intelligence\" that's more similar to human intelligence. We will discuss this theory in person at length, but if you want a preview, this is a good introduction from an expert.\n",
    "\n",
    "Curran et al, [Exploring the Feasibility and Performance of One-step Three-factor Authentication with Ear-EEG](https://cosmopol.is/assets/phycs2018.pdf), 2018. PhyCS.\n",
    "\n",
    "> This is a more technical treatment of our current work on passthoughts.\n",
    "\n",
    "Piplani et al, [Faking it, Making it: Fooling and Improving Brain-Based Authentication with Generative Adversarial Networks](https://cosmopol.is/assets/btas2018.pdf), 2018. IEEE BTAS.\n",
    "\n",
    "> This paper tries to *hack* our passthoughts system, also using machine learning. You may have heard of GANs---generative adversarial networks. This paper explains GANs a bit, and demonstrates a relevant application. GANs are most famous for generating fake imagery, such as realistic faces. They have all kinds of applications, so let this paper serve as an introduction if you are interested in the generative capacities of ML.\n",
    "\n",
    "Martinovic et al, [On the Feasibility of Side-Channel Attacks with Brain-Computer Interfaces](https://www.usenix.org/system/files/conference/usenixsecurity12/sec12-final56.pdf), 2012. USENIX.\n",
    "\n",
    "> This paper also uses EEG, the brainscanning modality we'll be working with in our course. They demonstrate a way to use EEG for hacking. I always think of this paper as the \"evil twin\" of our passthought work.\n",
    "\n",
    "## Extra-credit question\n",
    "\n",
    "For the purposes of this class, we will assume the mind is strictly physical (i.e., \"no ghost in the machine\"). However, that does not mean that the mind and the brain are strictly identical. The mind may be more expansive than the brain, extending to the body or beyond the body. Briefly, explain whether you think this is the case, citing sources where appropriate."
   ]
  }
 ],
 "metadata": {
  "kernelspec": {
   "display_name": "Python 3",
   "language": "python",
   "name": "python3"
  },
  "language_info": {
   "codemirror_mode": {
    "name": "ipython",
    "version": 3
   },
   "file_extension": ".py",
   "mimetype": "text/x-python",
   "name": "python",
   "nbconvert_exporter": "python",
   "pygments_lexer": "ipython3",
   "version": "3.6.7"
  },
  "name": "lab-0.ipynb"
 },
 "nbformat": 4,
 "nbformat_minor": 2
}
